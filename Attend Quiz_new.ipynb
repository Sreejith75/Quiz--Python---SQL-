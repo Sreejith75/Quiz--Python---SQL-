{
 "cells": [
  {
   "cell_type": "code",
   "execution_count": 2,
   "id": "06cdba05-5979-402a-979f-01b70481f190",
   "metadata": {},
   "outputs": [],
   "source": [
    "import mysql.connector as mysql_conn\n",
    "import pandas as pd"
   ]
  },
  {
   "cell_type": "code",
   "execution_count": 3,
   "id": "22c4c880-ec3d-4cee-9a13-c2c2050c349c",
   "metadata": {},
   "outputs": [],
   "source": [
    "mydb=mysql_conn.connect(host='localhost',user='root',password='8547',database='quiz_project')\n",
    "curs=mydb.cursor()\n"
   ]
  },
  {
   "cell_type": "code",
   "execution_count": 4,
   "id": "c0a2492a-4367-4851-a316-f9c37ff766f2",
   "metadata": {},
   "outputs": [
    {
     "data": {
      "text/html": [
       "<div>\n",
       "<style scoped>\n",
       "    .dataframe tbody tr th:only-of-type {\n",
       "        vertical-align: middle;\n",
       "    }\n",
       "\n",
       "    .dataframe tbody tr th {\n",
       "        vertical-align: top;\n",
       "    }\n",
       "\n",
       "    .dataframe thead th {\n",
       "        text-align: right;\n",
       "    }\n",
       "</style>\n",
       "<table border=\"1\" class=\"dataframe\">\n",
       "  <thead>\n",
       "    <tr style=\"text-align: right;\">\n",
       "      <th></th>\n",
       "      <th>ID</th>\n",
       "      <th>Quiz Name</th>\n",
       "    </tr>\n",
       "  </thead>\n",
       "  <tbody>\n",
       "    <tr>\n",
       "      <th>0</th>\n",
       "      <td>1</td>\n",
       "      <td>Python</td>\n",
       "    </tr>\n",
       "  </tbody>\n",
       "</table>\n",
       "</div>"
      ],
      "text/plain": [
       "   ID Quiz Name\n",
       "0   1    Python"
      ]
     },
     "execution_count": 4,
     "metadata": {},
     "output_type": "execute_result"
    }
   ],
   "source": [
    "curs.execute(\"select * from quiz_names order by id asc\")\n",
    "var1=curs.fetchall()\n",
    "\n",
    "df = pd.DataFrame(var1, columns=['ID','Quiz Name'])\n",
    "df"
   ]
  },
  {
   "cell_type": "code",
   "execution_count": null,
   "id": "f918ae54-f301-4ac2-b718-52a6a6b8972a",
   "metadata": {},
   "outputs": [
    {
     "name": "stdout",
     "output_type": "stream",
     "text": [
      "   ID Quiz Name\n",
      "0   1    Python\n",
      "Riminder: Once you have started the exam, You can only choose one option. If it gets wrong you can't select more !!!\n"
     ]
    }
   ],
   "source": [
    "count=0\n",
    "total_question=0\n",
    "print(df)\n",
    "print(\"Riminder: Once you have started the exam, You can only choose one option. If it gets wrong you can't select more !!!\")\n",
    "quiz_id=int(input(\"which Quiz do you want to Attend, Enter its corresponding ID : \"))\n",
    "\n",
    "query = \"SELECT * FROM quiz_questions WHERE id = %s ORDER BY q_no ASC\"\n",
    "curs.execute(query, (quiz_id,))\n",
    "rows=curs.fetchall()\n",
    "\n",
    "print()\n",
    "\n",
    "for r in rows:\n",
    "    total_question+=1\n",
    "    id1=r[0]\n",
    "    q_no1=r[1]\n",
    "    print(total_question,\". \",r[2])\n",
    "    query1=\"select * from quiz_options where id= %s and q_no= %s order by option_no asc \"\n",
    "    curs.execute(query1, (id1,q_no1,))\n",
    "    rows1=curs.fetchall()\n",
    "    for r1 in rows1:\n",
    "        print(\"\\t\",r1[2],\") \",r1[3])\n",
    "    ans=int(input(\"Enter your option : \")) \n",
    "    query2=\"Select option_no from quiz_answers where id=%s and q_no=%s\"\n",
    "    curs.execute(query2, (id1,q_no1,))\n",
    "    correct=curs.fetchone()  \n",
    "    \n",
    "    if(ans==correct[0]):\n",
    "        count+=1\n",
    "        print(\"Correct\\n\\n\")\n",
    "        \n",
    "    else:\n",
    "        print(\"incorrect\")\n",
    "        print(\"correct option : \",correct[0],\"\\n\\n\")\n",
    "print(\"---------------------------------------------------------------------------------\\n\")\n",
    "print(\"Total Number of Questions   : \",total_question)\n",
    "print('Correct Answers             : ',count)\n",
    "print(\"Wrong Answers               : \",total_question-count)\n",
    "per=(count/total_question)*100\n",
    "print(\"Your final Score Card       : \",per,\"% \") "
   ]
  },
  {
   "cell_type": "code",
   "execution_count": null,
   "id": "07261a9d-020a-4d39-bce7-e1deaf1f1d7b",
   "metadata": {},
   "outputs": [],
   "source": [
    "curs.close()\n",
    "mydb.close()"
   ]
  },
  {
   "cell_type": "code",
   "execution_count": null,
   "id": "63f6f13d-9ded-43f0-9295-d54e49837978",
   "metadata": {},
   "outputs": [],
   "source": []
  }
 ],
 "metadata": {
  "kernelspec": {
   "display_name": "Python 3 (ipykernel)",
   "language": "python",
   "name": "python3"
  },
  "language_info": {
   "codemirror_mode": {
    "name": "ipython",
    "version": 3
   },
   "file_extension": ".py",
   "mimetype": "text/x-python",
   "name": "python",
   "nbconvert_exporter": "python",
   "pygments_lexer": "ipython3",
   "version": "3.12.0"
  }
 },
 "nbformat": 4,
 "nbformat_minor": 5
}
