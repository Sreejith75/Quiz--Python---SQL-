{
 "cells": [
  {
   "cell_type": "code",
   "execution_count": 1,
   "id": "12a4b451-7c02-4c84-9b2b-861d8f692b5b",
   "metadata": {},
   "outputs": [
    {
     "name": "stderr",
     "output_type": "stream",
     "text": [
      "C:\\Users\\sreej\\AppData\\Local\\Temp\\ipykernel_19540\\3637011682.py:2: DeprecationWarning: \n",
      "Pyarrow will become a required dependency of pandas in the next major release of pandas (pandas 3.0),\n",
      "(to allow more performant data types, such as the Arrow string type, and better interoperability with other libraries)\n",
      "but was not found to be installed on your system.\n",
      "If this would cause problems for you,\n",
      "please provide us feedback at https://github.com/pandas-dev/pandas/issues/54466\n",
      "        \n",
      "  import pandas as pd\n"
     ]
    }
   ],
   "source": [
    "import mysql.connector as mysql_conn\n",
    "import pandas as pd"
   ]
  },
  {
   "cell_type": "code",
   "execution_count": 2,
   "id": "bd5ab862-352c-4693-a56b-24928cc37148",
   "metadata": {},
   "outputs": [],
   "source": [
    "mydb=mysql_conn.connect(host='localhost',user='root',password='8547',database='quiz_project')\n",
    "curs=mydb.cursor()"
   ]
  },
  {
   "cell_type": "code",
   "execution_count": null,
   "id": "525ccf0b-094e-4ddd-aaf8-d8dafbb8434d",
   "metadata": {},
   "outputs": [
    {
     "name": "stdin",
     "output_type": "stream",
     "text": [
      "Enter Name of Quiz:  ML\n",
      "Total Number of Questions:  2\n"
     ]
    },
    {
     "name": "stdout",
     "output_type": "stream",
     "text": [
      "\n",
      "...................................\n",
      "\n"
     ]
    },
    {
     "name": "stdin",
     "output_type": "stream",
     "text": [
      "Enter question Number 1:  what is ML\n",
      "Enter Option 1:  achhk\n",
      "Enter Option 2:  ac kna\n",
      "Enter Option 3:  khcb\n",
      "Enter Option 4:  knsc\n",
      "Enter the correct option:  2\n"
     ]
    },
    {
     "name": "stdout",
     "output_type": "stream",
     "text": [
      "\n",
      "...................................\n",
      "\n"
     ]
    }
   ],
   "source": [
    "import mysql.connector\n",
    "\n",
    "# Establish connection to the database\n",
    "mydb = mysql.connector.connect(\n",
    "    host=\"localhost\",\n",
    "    user=\"root\",\n",
    "    password=\"8547\",\n",
    "    database=\"quiz_project\"\n",
    ")\n",
    "\n",
    "# Create cursor\n",
    "curs = mydb.cursor()\n",
    "\n",
    "quiz_name = input(\"Enter Name of Quiz: \")\n",
    "\n",
    "try:\n",
    "    # Check if quiz name already exists\n",
    "    check_query = \"SELECT id FROM quiz_names WHERE quiz_name = %s\"\n",
    "    curs.execute(check_query, (quiz_name,))\n",
    "    existing_quiz = curs.fetchone()\n",
    "\n",
    "    if existing_quiz:\n",
    "        print(\"Quiz name already exists. Please provide another quiz name.\")\n",
    "    else:\n",
    "        # Insert quiz name\n",
    "        insert_query = \"INSERT INTO quiz_names(quiz_name) VALUES (%s)\"\n",
    "        curs.execute(insert_query, (quiz_name,))\n",
    "        mydb.commit()\n",
    "\n",
    "        # Fetch auto-incremented quiz_id\n",
    "        curs.execute(\"SELECT LAST_INSERT_ID()\")\n",
    "        quiz_id = curs.fetchone()[0]\n",
    "\n",
    "        n = int(input(\"Total Number of Questions: \"))\n",
    "\n",
    "        # Insert questions, options, and correct answers\n",
    "        for i in range(1, n + 1):\n",
    "            print(\"\\n...................................\\n\")\n",
    "            question = input(\"Enter question Number {}: \".format(i))\n",
    "\n",
    "            # Insert question\n",
    "            query2 = \"INSERT INTO quiz_questions VALUES (%s, %s, %s)\"\n",
    "            curs.execute(query2, (quiz_id, i, question))\n",
    "\n",
    "            # Insert options\n",
    "            for j in range(1, 5):\n",
    "                option = input(\"Enter Option {}: \".format(j))\n",
    "\n",
    "                query3 = \"INSERT INTO quiz_options (id, q_no, option_no, options_) VALUES (%s, %s, %s, %s)\"\n",
    "                curs.execute(query3, (quiz_id, i, j, option))\n",
    "\n",
    "            # Insert correct answer\n",
    "            correct = int(input(\"Enter the correct option: \"))\n",
    "            query4 = \"INSERT INTO quiz_answers (id, q_no, option_no) VALUES (%s, %s, %s)\"\n",
    "            curs.execute(query4, (quiz_id, i, correct))\n",
    "\n",
    "        mydb.commit()\n",
    "\n",
    "        print(\"\\n------------------------------------------------------------------------\\n\")\n",
    "        print(\"\\n\\nCongratulations !! Your Quiz Successfully Created !! \")\n",
    "\n",
    "except mysql.connector.Error as err:\n",
    "    print(\"Error:\", err)\n",
    "\n",
    "finally:\n",
    "    # Close cursor and database connection\n",
    "    curs.close()\n",
    "    mydb.close()\n"
   ]
  },
  {
   "cell_type": "code",
   "execution_count": null,
   "id": "8e4b969f-e27c-4449-845c-734fab038227",
   "metadata": {},
   "outputs": [],
   "source": []
  }
 ],
 "metadata": {
  "kernelspec": {
   "display_name": "Python 3 (ipykernel)",
   "language": "python",
   "name": "python3"
  },
  "language_info": {
   "codemirror_mode": {
    "name": "ipython",
    "version": 3
   },
   "file_extension": ".py",
   "mimetype": "text/x-python",
   "name": "python",
   "nbconvert_exporter": "python",
   "pygments_lexer": "ipython3",
   "version": "3.12.0"
  }
 },
 "nbformat": 4,
 "nbformat_minor": 5
}
